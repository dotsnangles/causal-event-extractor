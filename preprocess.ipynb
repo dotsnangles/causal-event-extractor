{
 "cells": [
  {
   "cell_type": "code",
   "execution_count": 163,
   "metadata": {},
   "outputs": [],
   "source": [
    "import os\n",
    "import random\n",
    "import time\n",
    "import pandas as pd\n",
    "import numpy as np\n",
    "\n",
    "import torch\n",
    "import torch.nn as nn\n",
    "import torch.optim as optim\n",
    "import torch.nn.functional as F\n",
    "\n",
    "from torch.utils.data import Dataset\n",
    "from torch.utils.data import DataLoader\n",
    "\n",
    "from transformers import ElectraModel, ElectraTokenizer\n",
    "\n",
    "from sklearn.model_selection import train_test_split\n",
    "from sklearn.metrics import f1_score"
   ]
  },
  {
   "attachments": {},
   "cell_type": "markdown",
   "metadata": {},
   "source": [
    "## Load and Concat dfs"
   ]
  },
  {
   "cell_type": "code",
   "execution_count": 164,
   "metadata": {},
   "outputs": [],
   "source": [
    "data_path_1 = 'data/2019-2021_ulsan_cause_effect_v2.csv'\n",
    "data_path_2 = 'data/eshc_cause-effect_v2.csv'\n",
    "data_path_3 = 'data/port_cause_effect_v2.csv'\n",
    "data_path_4 = 'data/ulsan_2022_cause-effect_v2.csv'"
   ]
  },
  {
   "cell_type": "code",
   "execution_count": 165,
   "metadata": {},
   "outputs": [],
   "source": [
    "df_1 = pd.read_csv(data_path_1, names=['tokens', 'labels'], skip_blank_lines=False)\n",
    "df_2 = pd.read_csv(data_path_2, names=['tokens', 'labels'], skip_blank_lines=False)\n",
    "df_3 = pd.read_csv(data_path_3, names=['tokens', 'labels'], skip_blank_lines=False)\n",
    "df_4 = pd.read_csv(data_path_4, names=['tokens', 'labels'], skip_blank_lines=False)\n",
    "\n",
    "df = pd.concat([df_1, df_2, df_3, df_4]).reset_index(drop=True)"
   ]
  },
  {
   "cell_type": "code",
   "execution_count": 166,
   "metadata": {},
   "outputs": [
    {
     "name": "stdout",
     "output_type": "stream",
     "text": [
      "<class 'pandas.core.frame.DataFrame'>\n",
      "RangeIndex: 176557 entries, 0 to 176556\n",
      "Data columns (total 2 columns):\n",
      " #   Column  Non-Null Count   Dtype \n",
      "---  ------  --------------   ----- \n",
      " 0   tokens  172864 non-null  object\n",
      " 1   labels  172865 non-null  object\n",
      "dtypes: object(2)\n",
      "memory usage: 2.7+ MB\n"
     ]
    }
   ],
   "source": [
    "df.info()"
   ]
  },
  {
   "attachments": {},
   "cell_type": "markdown",
   "metadata": {},
   "source": [
    "## Check if both tokens and labels are NaN"
   ]
  },
  {
   "cell_type": "code",
   "execution_count": 167,
   "metadata": {},
   "outputs": [
    {
     "data": {
      "text/html": [
       "<div>\n",
       "<style scoped>\n",
       "    .dataframe tbody tr th:only-of-type {\n",
       "        vertical-align: middle;\n",
       "    }\n",
       "\n",
       "    .dataframe tbody tr th {\n",
       "        vertical-align: top;\n",
       "    }\n",
       "\n",
       "    .dataframe thead th {\n",
       "        text-align: right;\n",
       "    }\n",
       "</style>\n",
       "<table border=\"1\" class=\"dataframe\">\n",
       "  <thead>\n",
       "    <tr style=\"text-align: right;\">\n",
       "      <th></th>\n",
       "      <th>tokens</th>\n",
       "      <th>labels</th>\n",
       "    </tr>\n",
       "  </thead>\n",
       "  <tbody>\n",
       "    <tr>\n",
       "      <th>26559</th>\n",
       "      <td>NaN</td>\n",
       "      <td>O</td>\n",
       "    </tr>\n",
       "  </tbody>\n",
       "</table>\n",
       "</div>"
      ],
      "text/plain": [
       "      tokens labels\n",
       "26559    NaN      O"
      ]
     },
     "execution_count": 167,
     "metadata": {},
     "output_type": "execute_result"
    }
   ],
   "source": [
    "checker1 = df.iloc[:, 0].isna()\n",
    "temp = df[checker1]\n",
    "checker2 = temp.iloc[:, 1].isna()\n",
    "temp[checker2 == False]"
   ]
  },
  {
   "cell_type": "code",
   "execution_count": 168,
   "metadata": {},
   "outputs": [],
   "source": [
    "df = df.drop(26559, axis=0).reset_index(drop=True)"
   ]
  },
  {
   "attachments": {},
   "cell_type": "markdown",
   "metadata": {},
   "source": [
    "## Separate tokens and labels for further investigation"
   ]
  },
  {
   "cell_type": "code",
   "execution_count": 169,
   "metadata": {},
   "outputs": [
    {
     "data": {
      "text/plain": [
       "(3692, 3692)"
      ]
     },
     "execution_count": 169,
     "metadata": {},
     "output_type": "execute_result"
    }
   ],
   "source": [
    "seps = df[df.iloc[:, 1].isna()].index.to_list()\n",
    "\n",
    "start = 0\n",
    "tokens_lst, labels_lst = [], []\n",
    "for idx in seps:\n",
    "    tokens_lst.append(df.iloc[start:idx, 0].to_list())\n",
    "    labels_lst.append(df.iloc[start:idx, 1].to_list())\n",
    "    start = idx + 1\n",
    "    \n",
    "len(tokens_lst), len(labels_lst)"
   ]
  },
  {
   "attachments": {},
   "cell_type": "markdown",
   "metadata": {},
   "source": [
    "## Check if sample length is valid"
   ]
  },
  {
   "cell_type": "code",
   "execution_count": 170,
   "metadata": {},
   "outputs": [
    {
     "name": "stdout",
     "output_type": "stream",
     "text": [
      "145322\n"
     ]
    }
   ],
   "source": [
    "seps = df[df.iloc[:, 1].isna()].index.to_list()\n",
    "start = 0\n",
    "for idx in seps:\n",
    "    if start + 2 >= idx:\n",
    "        print(idx)\n",
    "    start = idx"
   ]
  },
  {
   "cell_type": "code",
   "execution_count": 171,
   "metadata": {},
   "outputs": [
    {
     "data": {
      "text/html": [
       "<div>\n",
       "<style scoped>\n",
       "    .dataframe tbody tr th:only-of-type {\n",
       "        vertical-align: middle;\n",
       "    }\n",
       "\n",
       "    .dataframe tbody tr th {\n",
       "        vertical-align: top;\n",
       "    }\n",
       "\n",
       "    .dataframe thead th {\n",
       "        text-align: right;\n",
       "    }\n",
       "</style>\n",
       "<table border=\"1\" class=\"dataframe\">\n",
       "  <thead>\n",
       "    <tr style=\"text-align: right;\">\n",
       "      <th></th>\n",
       "      <th>tokens</th>\n",
       "      <th>labels</th>\n",
       "    </tr>\n",
       "  </thead>\n",
       "  <tbody>\n",
       "    <tr>\n",
       "      <th>145317</th>\n",
       "      <td>##할</td>\n",
       "      <td>E</td>\n",
       "    </tr>\n",
       "    <tr>\n",
       "      <th>145318</th>\n",
       "      <td>뻔한</td>\n",
       "      <td>E</td>\n",
       "    </tr>\n",
       "    <tr>\n",
       "      <th>145319</th>\n",
       "      <td>사고</td>\n",
       "      <td>E</td>\n",
       "    </tr>\n",
       "    <tr>\n",
       "      <th>145320</th>\n",
       "      <td>NaN</td>\n",
       "      <td>NaN</td>\n",
       "    </tr>\n",
       "    <tr>\n",
       "      <th>145321</th>\n",
       "      <td>.</td>\n",
       "      <td>O</td>\n",
       "    </tr>\n",
       "    <tr>\n",
       "      <th>145322</th>\n",
       "      <td>NaN</td>\n",
       "      <td>NaN</td>\n",
       "    </tr>\n",
       "    <tr>\n",
       "      <th>145323</th>\n",
       "      <td>포항</td>\n",
       "      <td>O</td>\n",
       "    </tr>\n",
       "    <tr>\n",
       "      <th>145324</th>\n",
       "      <td>에</td>\n",
       "      <td>O</td>\n",
       "    </tr>\n",
       "    <tr>\n",
       "      <th>145325</th>\n",
       "      <td>정박</td>\n",
       "      <td>C</td>\n",
       "    </tr>\n",
       "    <tr>\n",
       "      <th>145326</th>\n",
       "      <td>##하여</td>\n",
       "      <td>C</td>\n",
       "    </tr>\n",
       "  </tbody>\n",
       "</table>\n",
       "</div>"
      ],
      "text/plain": [
       "       tokens labels\n",
       "145317    ##할      E\n",
       "145318     뻔한      E\n",
       "145319     사고      E\n",
       "145320    NaN    NaN\n",
       "145321      .      O\n",
       "145322    NaN    NaN\n",
       "145323     포항      O\n",
       "145324      에      O\n",
       "145325     정박      C\n",
       "145326   ##하여      C"
      ]
     },
     "execution_count": 171,
     "metadata": {},
     "output_type": "execute_result"
    }
   ],
   "source": [
    "df.iloc[145322-5:145322+5]"
   ]
  },
  {
   "cell_type": "code",
   "execution_count": 172,
   "metadata": {},
   "outputs": [],
   "source": [
    "df = df.drop(145320, axis=0).reset_index(drop=True)"
   ]
  },
  {
   "cell_type": "code",
   "execution_count": 173,
   "metadata": {},
   "outputs": [],
   "source": [
    "for tokens, labels in zip(tokens_lst, labels_lst):\n",
    "    if len(tokens) != len(labels):\n",
    "        print(tokens)\n",
    "        print(labels)\n",
    "        print(len(tokens))\n",
    "        print(len(labels))"
   ]
  },
  {
   "attachments": {},
   "cell_type": "markdown",
   "metadata": {},
   "source": [
    "## Delete rows with new lines in tokens if their labels are O"
   ]
  },
  {
   "cell_type": "code",
   "execution_count": 174,
   "metadata": {},
   "outputs": [],
   "source": [
    "df['tokens'] = df.tokens.apply(lambda x: str(x))"
   ]
  },
  {
   "cell_type": "code",
   "execution_count": 175,
   "metadata": {},
   "outputs": [],
   "source": [
    "w_nls = df[df.tokens.str.contains('\\n')].labels.str.contains('O').index.to_list()"
   ]
  },
  {
   "cell_type": "code",
   "execution_count": 176,
   "metadata": {},
   "outputs": [],
   "source": [
    "df = df.drop(w_nls, axis=0).reset_index(drop=True)"
   ]
  },
  {
   "cell_type": "code",
   "execution_count": 177,
   "metadata": {},
   "outputs": [
    {
     "data": {
      "text/html": [
       "<div>\n",
       "<style scoped>\n",
       "    .dataframe tbody tr th:only-of-type {\n",
       "        vertical-align: middle;\n",
       "    }\n",
       "\n",
       "    .dataframe tbody tr th {\n",
       "        vertical-align: top;\n",
       "    }\n",
       "\n",
       "    .dataframe thead th {\n",
       "        text-align: right;\n",
       "    }\n",
       "</style>\n",
       "<table border=\"1\" class=\"dataframe\">\n",
       "  <thead>\n",
       "    <tr style=\"text-align: right;\">\n",
       "      <th></th>\n",
       "      <th>tokens</th>\n",
       "      <th>labels</th>\n",
       "    </tr>\n",
       "  </thead>\n",
       "  <tbody>\n",
       "  </tbody>\n",
       "</table>\n",
       "</div>"
      ],
      "text/plain": [
       "Empty DataFrame\n",
       "Columns: [tokens, labels]\n",
       "Index: []"
      ]
     },
     "execution_count": 177,
     "metadata": {},
     "output_type": "execute_result"
    }
   ],
   "source": [
    "df[df.tokens.str.contains('\\n')]"
   ]
  },
  {
   "attachments": {},
   "cell_type": "markdown",
   "metadata": {},
   "source": [
    "## Fix Labels"
   ]
  },
  {
   "cell_type": "code",
   "execution_count": 178,
   "metadata": {},
   "outputs": [],
   "source": [
    "label_lst = list(df.labels.value_counts().to_dict().keys())"
   ]
  },
  {
   "cell_type": "code",
   "execution_count": 179,
   "metadata": {},
   "outputs": [],
   "source": [
    "df['labels'] = df.labels.replace('C ', 'C')\n",
    "df['labels'] = df.labels.replace('c', 'C')\n",
    "df['labels'] = df.labels.replace('CE ', 'CE')\n",
    "df['labels'] = df.labels.replace(' CE1', 'CE')\n",
    "df['labels'] = df.labels.replace('CE1', 'CE')\n",
    "df['labels'] = df.labels.replace('CE2', 'CE')\n",
    "df['labels'] = df.labels.replace('CEE2', 'CE')\n",
    "df['labels'] = df.labels.replace('CE3', 'CE')\n",
    "df['labels'] = df.labels.replace('CE4', 'CE')\n",
    "df['labels'] = df.labels.replace('CE5', 'CE')\n",
    "df['labels'] = df.labels.replace('CE6', 'CE')\n",
    "df['labels'] = df.labels.replace('E1 ', 'E')\n",
    "df['labels'] = df.labels.replace('E1', 'E')\n",
    "df['labels'] = df.labels.replace(' ', 'O')\n",
    "df['labels'] = df.labels.replace('   ', 'O')"
   ]
  },
  {
   "cell_type": "code",
   "execution_count": 180,
   "metadata": {},
   "outputs": [
    {
     "data": {
      "text/plain": [
       "['O', 'CE', 'C', 'E']"
      ]
     },
     "execution_count": 180,
     "metadata": {},
     "output_type": "execute_result"
    }
   ],
   "source": [
    "label_lst = list(df.labels.value_counts().to_dict().keys())\n",
    "label_lst"
   ]
  },
  {
   "attachments": {},
   "cell_type": "markdown",
   "metadata": {},
   "source": [
    "## Simplify Labels"
   ]
  },
  {
   "cell_type": "code",
   "execution_count": 181,
   "metadata": {},
   "outputs": [
    {
     "data": {
      "text/plain": [
       "O     130984\n",
       "CE     18833\n",
       "C      14209\n",
       "E       8735\n",
       "Name: labels, dtype: int64"
      ]
     },
     "execution_count": 181,
     "metadata": {},
     "output_type": "execute_result"
    }
   ],
   "source": [
    "df.labels.value_counts()"
   ]
  },
  {
   "cell_type": "code",
   "execution_count": 182,
   "metadata": {},
   "outputs": [],
   "source": [
    "df['labels'] = df.labels.replace('CE', 'E')\n",
    "df['labels'] = df.labels.replace('C', 'E')"
   ]
  },
  {
   "cell_type": "code",
   "execution_count": 183,
   "metadata": {},
   "outputs": [
    {
     "data": {
      "text/plain": [
       "O    130984\n",
       "E     41777\n",
       "Name: labels, dtype: int64"
      ]
     },
     "execution_count": 183,
     "metadata": {},
     "output_type": "execute_result"
    }
   ],
   "source": [
    "df.labels.value_counts()"
   ]
  },
  {
   "cell_type": "code",
   "execution_count": 184,
   "metadata": {},
   "outputs": [
    {
     "data": {
      "text/plain": [
       "('E_B', 'E_I')"
      ]
     },
     "execution_count": 184,
     "metadata": {},
     "output_type": "execute_result"
    }
   ],
   "source": [
    "'E_B', 'E_I'"
   ]
  },
  {
   "attachments": {},
   "cell_type": "markdown",
   "metadata": {},
   "source": [
    "## Random Sample Test"
   ]
  },
  {
   "cell_type": "code",
   "execution_count": 185,
   "metadata": {},
   "outputs": [
    {
     "data": {
      "text/plain": [
       "(3691, 3691)"
      ]
     },
     "execution_count": 185,
     "metadata": {},
     "output_type": "execute_result"
    }
   ],
   "source": [
    "seps = df[df.iloc[:, 1].isna()].index.to_list()\n",
    "\n",
    "start = 0\n",
    "tokens_lst, labels_lst = [], []\n",
    "for idx in seps:\n",
    "    tokens_lst.append(df.iloc[start:idx, 0].to_list())\n",
    "    labels_lst.append(df.iloc[start:idx, 1].to_list())\n",
    "    start = idx + 1\n",
    "    \n",
    "len(tokens_lst), len(labels_lst)"
   ]
  },
  {
   "cell_type": "code",
   "execution_count": 186,
   "metadata": {},
   "outputs": [],
   "source": [
    "seps = df[df.iloc[:, 1].isna()].index.to_list()\n",
    "start = 0\n",
    "for idx in seps:\n",
    "    if start + 2 >= idx:\n",
    "        print(idx)\n",
    "    start = idx"
   ]
  },
  {
   "cell_type": "code",
   "execution_count": 187,
   "metadata": {},
   "outputs": [
    {
     "name": "stdout",
     "output_type": "stream",
     "text": [
      "353\n",
      "['2020', '##년', '8', '##월', '29', '##일', '오전', '10', '##시', '15', '##분', '##경', '경북', '청송', '군', '현', '동', '면', '내', 'OO', '터널', '및', '국도', '건설공사', '현장', '에서', '교각', '원형', '거푸집', '해체작업', '중', '작업자', '가', '9', '.', '8', '##m', '높이', '에서', '추락', '##하여', '사망', '##하', '##였', '##다', '.']\n",
      "['O', 'O', 'O', 'O', 'O', 'O', 'O', 'O', 'O', 'O', 'O', 'O', 'O', 'O', 'O', 'O', 'O', 'O', 'O', 'O', 'O', 'O', 'O', 'O', 'O', 'O', 'O', 'O', 'E', 'E', 'O', 'O', 'O', 'O', 'O', 'O', 'O', 'O', 'O', 'E', 'O', 'E', 'O', 'O', 'O', 'O']\n",
      "28\n",
      "거푸집\n",
      "E\n"
     ]
    }
   ],
   "source": [
    "idx = random.randrange(0, len(tokens_lst))\n",
    "\n",
    "print(idx)\n",
    "print(tokens_lst[idx])\n",
    "print(labels_lst[idx])\n",
    "\n",
    "first_e = labels_lst[idx].index('E')\n",
    "\n",
    "print(first_e)\n",
    "print(tokens_lst[idx][first_e])\n",
    "print(labels_lst[idx][first_e])"
   ]
  },
  {
   "cell_type": "code",
   "execution_count": 188,
   "metadata": {},
   "outputs": [],
   "source": [
    "# tokenizer = ElectraTokenizer.from_pretrained('tokenizer')\n",
    "\n",
    "# for tokens in tokens_lst:\n",
    "#     print(tokenizer.convert_tokens_to_string(tokens))\n",
    "#     print()"
   ]
  },
  {
   "cell_type": "code",
   "execution_count": 189,
   "metadata": {},
   "outputs": [],
   "source": [
    "# for tokens, labels in zip(df.tokens, df.labels):\n",
    "#     print(tokens, labels)"
   ]
  },
  {
   "attachments": {},
   "cell_type": "markdown",
   "metadata": {},
   "source": [
    "## Apply B-I Scheme"
   ]
  },
  {
   "cell_type": "code",
   "execution_count": 190,
   "metadata": {},
   "outputs": [],
   "source": [
    "# tokens_lst, labels_lst"
   ]
  },
  {
   "cell_type": "code",
   "execution_count": 191,
   "metadata": {},
   "outputs": [],
   "source": [
    "for labels in labels_lst:\n",
    "    for idx, label in enumerate(labels):\n",
    "        if label == 'E':\n",
    "            if idx == 0:\n",
    "                labels[idx] = 'E_B'\n",
    "            elif labels[idx-1] == 'O':\n",
    "                labels[idx] = 'E_B'\n",
    "            else:\n",
    "                labels[idx] = 'E_I'"
   ]
  },
  {
   "cell_type": "code",
   "execution_count": 192,
   "metadata": {},
   "outputs": [],
   "source": [
    "data = {\n",
    "    'tokens': tokens_lst,\n",
    "    'labels': labels_lst\n",
    "}\n",
    "data_df = pd.DataFrame(data)"
   ]
  },
  {
   "cell_type": "code",
   "execution_count": 196,
   "metadata": {},
   "outputs": [],
   "source": [
    "data_df.to_pickle('data/preprocessed.pkl')"
   ]
  },
  {
   "cell_type": "code",
   "execution_count": 197,
   "metadata": {},
   "outputs": [
    {
     "data": {
      "text/html": [
       "<div>\n",
       "<style scoped>\n",
       "    .dataframe tbody tr th:only-of-type {\n",
       "        vertical-align: middle;\n",
       "    }\n",
       "\n",
       "    .dataframe tbody tr th {\n",
       "        vertical-align: top;\n",
       "    }\n",
       "\n",
       "    .dataframe thead th {\n",
       "        text-align: right;\n",
       "    }\n",
       "</style>\n",
       "<table border=\"1\" class=\"dataframe\">\n",
       "  <thead>\n",
       "    <tr style=\"text-align: right;\">\n",
       "      <th></th>\n",
       "      <th>tokens</th>\n",
       "      <th>labels</th>\n",
       "    </tr>\n",
       "  </thead>\n",
       "  <tbody>\n",
       "    <tr>\n",
       "      <th>0</th>\n",
       "      <td>[2020, ##년, 2, ##월, 13, ##일, 새, 벽, 4, 시, 30, #...</td>\n",
       "      <td>[O, O, O, O, O, O, O, O, O, O, O, O, O, O, O, ...</td>\n",
       "    </tr>\n",
       "    <tr>\n",
       "      <th>1</th>\n",
       "      <td>[2019, ##년, 12, ##월, 30, ##일, 오후, 1, ##시, ##30...</td>\n",
       "      <td>[O, O, O, O, O, O, O, O, O, O, O, O, O, O, O, ...</td>\n",
       "    </tr>\n",
       "    <tr>\n",
       "      <th>2</th>\n",
       "      <td>[2019, ##년, 12, ##월, 30, ##일, 오후, ##1, ##시, ##...</td>\n",
       "      <td>[O, O, O, O, O, O, O, O, O, O, O, O, O, O, O, ...</td>\n",
       "    </tr>\n",
       "    <tr>\n",
       "      <th>3</th>\n",
       "      <td>[2019, ##년, 12, ##월, 29, ##일, 오후, 6, ##시, 4, 0...</td>\n",
       "      <td>[O, O, O, O, O, O, O, O, O, O, O, O, O, O, O, ...</td>\n",
       "    </tr>\n",
       "    <tr>\n",
       "      <th>4</th>\n",
       "      <td>[', 2019, ##년, 12, ##월, 30, ##일, 새, 벽, 2, ##시,...</td>\n",
       "      <td>[O, O, O, O, O, O, O, O, O, O, O, O, O, O, O, ...</td>\n",
       "    </tr>\n",
       "    <tr>\n",
       "      <th>...</th>\n",
       "      <td>...</td>\n",
       "      <td>...</td>\n",
       "    </tr>\n",
       "    <tr>\n",
       "      <th>3686</th>\n",
       "      <td>[2022, ##년, 1, ##월, 5, ##일, 오후, 2, ##시, 15, ##...</td>\n",
       "      <td>[O, O, O, O, O, O, O, O, O, O, O, O, O, O, O, ...</td>\n",
       "    </tr>\n",
       "    <tr>\n",
       "      <th>3687</th>\n",
       "      <td>[2021, ##년, 1, ##월, 4, 일, 오후, 4, 시경, 충북, 청주시, ...</td>\n",
       "      <td>[O, O, O, O, O, O, O, O, O, O, O, O, O, O, O, ...</td>\n",
       "    </tr>\n",
       "    <tr>\n",
       "      <th>3688</th>\n",
       "      <td>[2021, ##년, 1, ##월, 4, 일, 오전, 7, ##시, 23, ##분,...</td>\n",
       "      <td>[O, O, O, O, O, O, O, O, O, O, O, O, O, O, O, ...</td>\n",
       "    </tr>\n",
       "    <tr>\n",
       "      <th>3689</th>\n",
       "      <td>[2022, ##년, 1, ##월, 2, ##일, 오후, 1, ##시, 30, ##...</td>\n",
       "      <td>[O, O, O, O, O, O, O, O, O, O, O, O, O, E_B, E...</td>\n",
       "    </tr>\n",
       "    <tr>\n",
       "      <th>3690</th>\n",
       "      <td>[2022, ##년, 1, ##월, 1, ##일, 오전, 7, ##시, 50, ##...</td>\n",
       "      <td>[O, O, O, O, O, O, O, O, O, O, O, O, O, O, O, ...</td>\n",
       "    </tr>\n",
       "  </tbody>\n",
       "</table>\n",
       "<p>3691 rows × 2 columns</p>\n",
       "</div>"
      ],
      "text/plain": [
       "                                                 tokens  \\\n",
       "0     [2020, ##년, 2, ##월, 13, ##일, 새, 벽, 4, 시, 30, #...   \n",
       "1     [2019, ##년, 12, ##월, 30, ##일, 오후, 1, ##시, ##30...   \n",
       "2     [2019, ##년, 12, ##월, 30, ##일, 오후, ##1, ##시, ##...   \n",
       "3     [2019, ##년, 12, ##월, 29, ##일, 오후, 6, ##시, 4, 0...   \n",
       "4     [', 2019, ##년, 12, ##월, 30, ##일, 새, 벽, 2, ##시,...   \n",
       "...                                                 ...   \n",
       "3686  [2022, ##년, 1, ##월, 5, ##일, 오후, 2, ##시, 15, ##...   \n",
       "3687  [2021, ##년, 1, ##월, 4, 일, 오후, 4, 시경, 충북, 청주시, ...   \n",
       "3688  [2021, ##년, 1, ##월, 4, 일, 오전, 7, ##시, 23, ##분,...   \n",
       "3689  [2022, ##년, 1, ##월, 2, ##일, 오후, 1, ##시, 30, ##...   \n",
       "3690  [2022, ##년, 1, ##월, 1, ##일, 오전, 7, ##시, 50, ##...   \n",
       "\n",
       "                                                 labels  \n",
       "0     [O, O, O, O, O, O, O, O, O, O, O, O, O, O, O, ...  \n",
       "1     [O, O, O, O, O, O, O, O, O, O, O, O, O, O, O, ...  \n",
       "2     [O, O, O, O, O, O, O, O, O, O, O, O, O, O, O, ...  \n",
       "3     [O, O, O, O, O, O, O, O, O, O, O, O, O, O, O, ...  \n",
       "4     [O, O, O, O, O, O, O, O, O, O, O, O, O, O, O, ...  \n",
       "...                                                 ...  \n",
       "3686  [O, O, O, O, O, O, O, O, O, O, O, O, O, O, O, ...  \n",
       "3687  [O, O, O, O, O, O, O, O, O, O, O, O, O, O, O, ...  \n",
       "3688  [O, O, O, O, O, O, O, O, O, O, O, O, O, O, O, ...  \n",
       "3689  [O, O, O, O, O, O, O, O, O, O, O, O, O, E_B, E...  \n",
       "3690  [O, O, O, O, O, O, O, O, O, O, O, O, O, O, O, ...  \n",
       "\n",
       "[3691 rows x 2 columns]"
      ]
     },
     "execution_count": 197,
     "metadata": {},
     "output_type": "execute_result"
    }
   ],
   "source": [
    "pd.read_pickle('data/preprocessed.pkl')"
   ]
  }
 ],
 "metadata": {
  "kernelspec": {
   "display_name": "jeonghyeon",
   "language": "python",
   "name": "python3"
  },
  "language_info": {
   "codemirror_mode": {
    "name": "ipython",
    "version": 3
   },
   "file_extension": ".py",
   "mimetype": "text/x-python",
   "name": "python",
   "nbconvert_exporter": "python",
   "pygments_lexer": "ipython3",
   "version": "3.8.13"
  },
  "orig_nbformat": 4,
  "vscode": {
   "interpreter": {
    "hash": "df12b971f0e4e081474c4ac44bd338416eac6f5401e1e938ba342788cee78ecd"
   }
  }
 },
 "nbformat": 4,
 "nbformat_minor": 2
}
